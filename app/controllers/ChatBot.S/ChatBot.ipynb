{
 "cells": [
  {
   "cell_type": "code",
   "execution_count": 1,
   "id": "6be9e3b5",
   "metadata": {},
   "outputs": [
    {
     "name": "stdout",
     "output_type": "stream",
     "text": [
      "✔ Download and installation successful\n",
      "You can now load the package via spacy.load('en_core_web_sm')\n"
     ]
    }
   ],
   "source": [
    "from chatterbot import ChatBot\n",
    "from chatterbot.trainers import ListTrainer\n",
    "\n",
    "# isso aqui só precisa para corrigir o bug\n",
    "from spacy.cli import download\n",
    "\n",
    "download(\"en_core_web_sm\")\n",
    "\n",
    "class ENGSM:\n",
    "    ISO_639_1 = 'en_core_web_sm'"
   ]
  },
  {
   "cell_type": "code",
   "execution_count": 8,
   "id": "eb79ec1e",
   "metadata": {
    "scrolled": true
   },
   "outputs": [
    {
     "name": "stdout",
     "output_type": "stream",
     "text": [
      "List Trainer: [####################] 100%\n"
     ]
    }
   ],
   "source": [
    "chatbot = ChatBot(\"Lucão\", tagger_language=ENGSM)\n",
    "\n",
    "conversa = [\n",
    "    \"1- Como alterar o preço do estacionamento?\",\n",
    "    \"Para alterar o preço do estacionamento, basta acessar a plataforma de gerenciamento do seu estacionamento, ir até a barra lateral esquerda e clicar em 'cadastro'. Lá, você terá o campo 'valor por hora' e 'valor diário'.\",\n",
    "    \"2- Como alterar o horário de funcionamento?\",\n",
    "    \"Para alterar o horário de funcionamento do espaço, acesse a barra lateral do lado esquerdo > clique em 'gerenciamento' > alterar horário > insira os novos horários > alterar.\",\n",
    "    \"3 - Como alterar dados do meu perfil?\",\n",
    "    \"Para alterar os dados de seu cadastro, acesse a barra lateral do lado esquerdo > cadastro > editar.\",\n",
    "    \"4 - Como ver o status do meu estacionamento?\",\n",
    "    \"Para verificar a atual situação de seu estacionamento, basta acessar no menu lateral esquerdo, a opção 'monitoramento do estacionamento'. Lá você pode verificar as avaliações, vagas e ocupação.\",\n",
    "    \"Oi\",\n",
    "    \" Olá, bem vindo ao atendimento do SmartParking.\\n Qual seria sua dúvida?\\n \\n 1- Como alterar preço do estacionamento?\\n 2- Como alterar o horário de funcionamento?\\n 3- Como alterar dados do meu perfil?\\n 4- Como ver o status do meu estacionamento?\",\n",
    "    \"Olá\",\n",
    "    \" Olá, bem vindo ao atendimento do SmartParking.\\n Qual seria sua dúvida?\\n \\n 1- Como alterar preço do estacionamento?\\n 2- Como alterar o horário de funcionamento?\\n 3- Como alterar dados do meu perfil?\\n 4- Como ver o status do meu estacionamento?\",\n",
    "    \"Olá, tudo bem?\",\n",
    "    \" Olá, bem vindo ao atendimento do SmartParking.\\n Qual seria sua dúvida?\\n \\n 1- Como alterar preço do estacionamento?\\n 2- Como alterar o horário de funcionamento?\\n 3- Como alterar dados do meu perfil?\\n 4- Como ver o status do meu estacionamento?\",\n",
    "    \"Tudo bem?\",\n",
    "    \"Tudo ótimo, como posso ajudar?\",\n",
    "    \"Bom dia\",\n",
    "    \"Bom dia, como posso ajudar?\",\n",
    "    \"Boa noite\",\n",
    "    \"Boa noite, como posso ajudar?\",\n",
    "    \"Boa tarde\",\n",
    "    \"Boa tarde, como posso ajudar?\",\n",
    "    \"Outra dúvida\",\n",
    "    \"Para outras dúvidas será necessário entrar em contato com o suporte\",\n",
    "    \"Outros\",\n",
    "    \"Para outras dúvidas será necessário entrar em contato com o suporte\",\n",
    "    \"1\",\n",
    "    \"Para alterar o preço do estacionamento, basta acessar a plataforma de gerenciamento do seu estacionamento, ir até a barra lateral esquerda e clicar em 'cadastro'. Lá, você terá o campo 'valor por hora' e 'valor diário'.\",\n",
    "    \"2\",\n",
    "    \"Para alterar o horário de funcionamento do espaço, acesse a barra lateral do lado esquerdo > clique em 'gerenciamento' > alterar horário > insira os novos horários > alterar.\",\n",
    "    \"3\",\n",
    "    \"Para alterar os dados de seu cadastro, acesse a barra lateral do lado esquerdo > cadastro > editar.\",\n",
    "    \"4\",\n",
    "    \"Para verificar a atual situação de seu estacionamento, basta acessar no menu lateral esquerdo, a opção 'monitoramento do estacionamento'. Lá você pode verificar as avaliações, vagas e ocupação.\",\n",
    "    \"Preço\",\n",
    "    \"Para alterar o preço do estacionamento, basta acessar a plataforma de gerenciamento do seu estacionamento, ir até a barra lateral esquerda e clicar em 'cadastro'. Lá, você terá o campo 'valor por hora' e 'valor diário'.\",\n",
    "    \"Horário funcionamento\",\n",
    "    \"Para alterar o horário de funcionamento do espaço, acesse a barra lateral do lado esquerdo > clique em 'gerenciamento' > alterar horário > insira os novos horários > alterar.\",\n",
    "    \"Cadastro\",\n",
    "    \"Para alterar os dados de seu cadastro, acesse a barra lateral do lado esquerdo > cadastro > editar.\",\n",
    "    \"Vagas\",\n",
    "    \"Para verificar a atual situação de seu estacionamento, basta acessar no menu lateral esquerdo, a opção 'monitoramento do estacionamento'. Lá você pode verificar as avaliações, vagas e ocupação.\",\n",
    "    \"Mudar preço\",\n",
    "    \"Para alterar o preço do estacionamento, basta acessar a plataforma de gerenciamento do seu estacionamento, ir até a barra lateral esquerda e clicar em 'cadastro'. Lá, você terá o campo 'valor por hora' e 'valor diário'.\",\n",
    "    \"Mudar Horário funcionamento\",\n",
    "    \"Para alterar o horário de funcionamento do espaço, acesse a barra lateral do lado esquerdo > clique em 'gerenciamento' > alterar horário > insira os novos horários > alterar.\",\n",
    "    \"Mudar cadastro\",\n",
    "    \"Para alterar os dados de seu cadastro, acesse a barra lateral do lado esquerdo > cadastro > editar.\",\n",
    "    \"Verifica estacionamento\",\n",
    "    \"Para verificar a atual situação de seu estacionamento, basta acessar no menu lateral esquerdo, a opção 'monitoramento do estacionamento'. Lá você pode verificar as avaliações, vagas e ocupação.\"\n",
    "]\n",
    "\n",
    "trainer = ListTrainer(chatbot)\n",
    "trainer.train(conversa)"
   ]
  },
  {
   "cell_type": "code",
   "execution_count": 9,
   "id": "0cb069c3",
   "metadata": {
    "scrolled": true
   },
   "outputs": [
    {
     "name": "stdout",
     "output_type": "stream",
     "text": [
      " Olá, bem vindo ao atendimento do SmartParking.\n",
      " Qual seria sua dúvida?\n",
      " \n",
      " 1- Como alterar preço do estacionamento?\n",
      " 2- Como alterar o horário de funcionamento?\n",
      " 3- Como alterar dados do meu perfil?\n",
      " 4- Como ver o status do meu estacionamento?\n",
      "Você: sair\n"
     ]
    },
    {
     "ename": "ChatBotException",
     "evalue": "Either a statement object or a \"text\" keyword argument is required. Neither was provided.",
     "output_type": "error",
     "traceback": [
      "\u001b[1;31m---------------------------------------------------------------------------\u001b[0m",
      "\u001b[1;31mChatBotException\u001b[0m                          Traceback (most recent call last)",
      "\u001b[1;32m<ipython-input-9-62d364fd6f94>\u001b[0m in \u001b[0;36m<module>\u001b[1;34m\u001b[0m\n\u001b[0;32m      8\u001b[0m     \u001b[0mprint\u001b[0m\u001b[1;33m(\u001b[0m\u001b[1;34m'Bot: '\u001b[0m\u001b[1;33m,\u001b[0m \u001b[0mresposta\u001b[0m\u001b[1;33m)\u001b[0m\u001b[1;33m\u001b[0m\u001b[1;33m\u001b[0m\u001b[0m\n\u001b[0;32m      9\u001b[0m \u001b[1;33m\u001b[0m\u001b[0m\n\u001b[1;32m---> 10\u001b[1;33m \u001b[0mchatbot\u001b[0m\u001b[1;33m.\u001b[0m\u001b[0mget_response\u001b[0m\u001b[1;33m(\u001b[0m\u001b[1;33m)\u001b[0m\u001b[1;33m\u001b[0m\u001b[1;33m\u001b[0m\u001b[0m\n\u001b[0m",
      "\u001b[1;32m~\\anaconda3\\envs\\chatbotpython\\lib\\site-packages\\chatterbot\\chatterbot.py\u001b[0m in \u001b[0;36mget_response\u001b[1;34m(self, statement, **kwargs)\u001b[0m\n\u001b[0;32m     85\u001b[0m         \u001b[1;32mif\u001b[0m \u001b[0mstatement\u001b[0m \u001b[1;32mis\u001b[0m \u001b[1;32mNone\u001b[0m \u001b[1;32mand\u001b[0m \u001b[1;34m'text'\u001b[0m \u001b[1;32mnot\u001b[0m \u001b[1;32min\u001b[0m \u001b[0mkwargs\u001b[0m\u001b[1;33m:\u001b[0m\u001b[1;33m\u001b[0m\u001b[1;33m\u001b[0m\u001b[0m\n\u001b[0;32m     86\u001b[0m             raise self.ChatBotException(\n\u001b[1;32m---> 87\u001b[1;33m                 \u001b[1;34m'Either a statement object or a \"text\" keyword '\u001b[0m\u001b[1;33m\u001b[0m\u001b[1;33m\u001b[0m\u001b[0m\n\u001b[0m\u001b[0;32m     88\u001b[0m                 \u001b[1;34m'argument is required. Neither was provided.'\u001b[0m\u001b[1;33m\u001b[0m\u001b[1;33m\u001b[0m\u001b[0m\n\u001b[0;32m     89\u001b[0m             )\n",
      "\u001b[1;31mChatBotException\u001b[0m: Either a statement object or a \"text\" keyword argument is required. Neither was provided."
     ]
    }
   ],
   "source": [
    "print(' Olá, bem vindo ao atendimento do SmartParking.\\n Qual seria sua dúvida?\\n \\n 1- Como alterar preço do estacionamento?\\n 2- Como alterar o horário de funcionamento?\\n 3- Como alterar dados do meu perfil?\\n 4- Como ver o status do meu estacionamento?')\n",
    "\n",
    "while True:\n",
    "    mensagem = input('Você: ')\n",
    "    if mensagem == \"sair\":\n",
    "        break\n",
    "    resposta = chatbot.get_response(mensagem)\n",
    "    print('Bot: ', resposta)\n",
    "\n",
    "chatbot.get_response()"
   ]
  },
  {
   "cell_type": "markdown",
   "id": "57fb351e",
   "metadata": {},
   "source": []
  }
 ],
 "metadata": {
  "kernelspec": {
   "display_name": "Python 3",
   "language": "python",
   "name": "python3"
  },
  "language_info": {
   "codemirror_mode": {
    "name": "ipython",
    "version": 3
   },
   "file_extension": ".py",
   "mimetype": "text/x-python",
   "name": "python",
   "nbconvert_exporter": "python",
   "pygments_lexer": "ipython3",
   "version": "3.6.13"
  }
 },
 "nbformat": 4,
 "nbformat_minor": 5
}
